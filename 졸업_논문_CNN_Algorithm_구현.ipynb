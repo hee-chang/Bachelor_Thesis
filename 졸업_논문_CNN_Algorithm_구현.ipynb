{
  "nbformat": 4,
  "nbformat_minor": 0,
  "metadata": {
    "colab": {
      "name": "졸업 논문 CNN Algorithm 구현",
      "provenance": [],
      "collapsed_sections": [],
      "authorship_tag": "ABX9TyOboi+zmZjPzQV5pxxfMU7v",
      "include_colab_link": true
    },
    "kernelspec": {
      "name": "python3",
      "display_name": "Python 3"
    },
    "accelerator": "GPU"
  },
  "cells": [
    {
      "cell_type": "markdown",
      "metadata": {
        "id": "view-in-github",
        "colab_type": "text"
      },
      "source": [
        "<a href=\"https://colab.research.google.com/github/hee-chang/Bachelor_Thesis/blob/main/%EC%A1%B8%EC%97%85_%EB%85%BC%EB%AC%B8_CNN_Algorithm_%EA%B5%AC%ED%98%84.ipynb\" target=\"_parent\"><img src=\"https://colab.research.google.com/assets/colab-badge.svg\" alt=\"Open In Colab\"/></a>"
      ]
    },
    {
      "cell_type": "code",
      "metadata": {
        "id": "k-ynEmIfftvc",
        "colab": {
          "resources": {
            "http://localhost:8080/nbextensions/google.colab/files.js": {
              "data": "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",
              "ok": true,
              "headers": [
                [
                  "content-type",
                  "application/javascript"
                ]
              ],
              "status": 200,
              "status_text": ""
            }
          },
          "base_uri": "https://localhost:8080/",
          "height": 76
        },
        "outputId": "eb724eb8-db7b-47c3-912c-5dbf46b89245"
      },
      "source": [
        "from google.colab import files\n",
        "uploaded = files.upload()"
      ],
      "execution_count": null,
      "outputs": [
        {
          "output_type": "display_data",
          "data": {
            "text/html": [
              "\n",
              "     <input type=\"file\" id=\"files-d37fdd2c-ccee-4de6-ad61-396cc2354529\" name=\"files[]\" multiple disabled\n",
              "        style=\"border:none\" />\n",
              "     <output id=\"result-d37fdd2c-ccee-4de6-ad61-396cc2354529\">\n",
              "      Upload widget is only available when the cell has been executed in the\n",
              "      current browser session. Please rerun this cell to enable.\n",
              "      </output>\n",
              "      <script src=\"/nbextensions/google.colab/files.js\"></script> "
            ],
            "text/plain": [
              "<IPython.core.display.HTML object>"
            ]
          },
          "metadata": {
            "tags": []
          }
        },
        {
          "output_type": "stream",
          "text": [
            "Saving new_datasets.zip to new_datasets.zip\n"
          ],
          "name": "stdout"
        }
      ]
    },
    {
      "cell_type": "code",
      "metadata": {
        "id": "sQ5c5MQnfvTy",
        "colab": {
          "base_uri": "https://localhost:8080/"
        },
        "outputId": "cdbaa0f6-4ed7-4cfd-d8b0-5377ad82b030"
      },
      "source": [
        "!unzip new_datasets.zip"
      ],
      "execution_count": null,
      "outputs": [
        {
          "output_type": "stream",
          "text": [
            "Archive:  new_datasets.zip\n",
            "  inflating: test_data/ans_0/270_60_0.png  \n",
            "  inflating: test_data/ans_0/270_65_0.png  \n",
            "  inflating: test_data/ans_0/270_70_0.png  \n",
            "  inflating: test_data/ans_0/270_75_0.png  \n",
            "  inflating: test_data/ans_0/270_80_0.png  \n",
            "  inflating: test_data/ans_0/271_60_0.png  \n",
            "  inflating: test_data/ans_0/271_65_0.png  \n",
            "  inflating: test_data/ans_0/271_70_0.png  \n",
            "  inflating: test_data/ans_0/271_75_0.png  \n",
            "  inflating: test_data/ans_0/271_80_0.png  \n",
            "  inflating: test_data/ans_0/272_60_0.png  \n",
            "  inflating: test_data/ans_0/272_65_0.png  \n",
            "  inflating: test_data/ans_0/272_70_0.png  \n",
            "  inflating: test_data/ans_0/272_75_0.png  \n",
            "  inflating: test_data/ans_0/273_60_0.png  \n",
            "  inflating: test_data/ans_0/273_65_0.png  \n",
            "  inflating: test_data/ans_0/273_70_0.png  \n",
            "  inflating: test_data/ans_0/274_60_0.png  \n",
            "  inflating: test_data/ans_0/274_65_0.png  \n",
            "  inflating: test_data/ans_1/272_80_1.png  \n",
            "  inflating: test_data/ans_1/273_75_1.png  \n",
            "  inflating: test_data/ans_1/273_80_1.png  \n",
            "  inflating: test_data/ans_1/274_70_1.png  \n",
            "  inflating: test_data/ans_1/274_75_1.png  \n",
            "  inflating: test_data/ans_1/274_80_1.png  \n",
            "  inflating: test_data/ans_1/275_60_1.png  \n",
            "  inflating: test_data/ans_1/275_65_1.png  \n",
            "  inflating: test_data/ans_1/275_70_1.png  \n",
            "  inflating: test_data/ans_1/275_75_1.png  \n",
            "  inflating: test_data/ans_1/275_80_1.png  \n",
            "  inflating: training/ans_0/200_60_0.png  \n",
            "  inflating: training/ans_0/200_65_0.png  \n",
            "  inflating: training/ans_0/201_60_0.png  \n",
            "  inflating: training/ans_0/201_65_0.png  \n",
            "  inflating: training/ans_0/202_60_0.png  \n",
            "  inflating: training/ans_0/250_60_0.png  \n",
            "  inflating: training/ans_0/250_65_0.png  \n",
            "  inflating: training/ans_0/250_70_0.png  \n",
            "  inflating: training/ans_0/250_75_0.png  \n",
            "  inflating: training/ans_0/251_60_0.png  \n",
            "  inflating: training/ans_0/251_65_0.png  \n",
            "  inflating: training/ans_0/251_70_0.png  \n",
            "  inflating: training/ans_0/251_75_0.png  \n",
            "  inflating: training/ans_0/252_60_0.png  \n",
            "  inflating: training/ans_0/252_65_0.png  \n",
            "  inflating: training/ans_0/252_70_0.png  \n",
            "  inflating: training/ans_0/253_60_0.png  \n",
            "  inflating: training/ans_0/253_65_0.png  \n",
            "  inflating: training/ans_0/254_60_0.png  \n",
            "  inflating: training/ans_0/300_60_0.png  \n",
            "  inflating: training/ans_0/300_65_0.png  \n",
            "  inflating: training/ans_0/300_70_0.png  \n",
            "  inflating: training/ans_0/300_75_0.png  \n",
            "  inflating: training/ans_0/300_80_0.png  \n",
            "  inflating: training/ans_0/301_60_0.png  \n",
            "  inflating: training/ans_0/301_65_0.png  \n",
            "  inflating: training/ans_0/301_70_0.png  \n",
            "  inflating: training/ans_0/301_75_0.png  \n",
            "  inflating: training/ans_0/301_80_0.png  \n",
            "  inflating: training/ans_0/302_60_0.png  \n",
            "  inflating: training/ans_0/302_65_0.png  \n",
            "  inflating: training/ans_0/302_70_0.png  \n",
            "  inflating: training/ans_0/302_75_0.png  \n",
            "  inflating: training/ans_0/302_80_0.png  \n",
            "  inflating: training/ans_0/303_60_0.png  \n",
            "  inflating: training/ans_0/303_65_0.png  \n",
            "  inflating: training/ans_0/303_70_0.png  \n",
            "  inflating: training/ans_0/303_75_0.png  \n",
            "  inflating: training/ans_0/304_60_0.png  \n",
            "  inflating: training/ans_0/304_65_0.png  \n",
            "  inflating: training/ans_0/305_60_0.png  \n",
            "  inflating: training/ans_0/350_60_0.png  \n",
            "  inflating: training/ans_0/350_65_0.png  \n",
            "  inflating: training/ans_0/350_70_0.png  \n",
            "  inflating: training/ans_0/350_75_0.png  \n",
            "  inflating: training/ans_0/350_80_0.png  \n",
            "  inflating: training/ans_0/351_60_0.png  \n",
            "  inflating: training/ans_0/351_65_0.png  \n",
            "  inflating: training/ans_0/351_70_0.png  \n",
            "  inflating: training/ans_0/351_75_0.png  \n",
            "  inflating: training/ans_0/351_80_0.png  \n",
            "  inflating: training/ans_0/352_60_0.png  \n",
            "  inflating: training/ans_0/352_65_0.png  \n",
            "  inflating: training/ans_0/352_70_0.png  \n",
            "  inflating: training/ans_0/352_75_0.png  \n",
            "  inflating: training/ans_0/352_80_0.png  \n",
            "  inflating: training/ans_0/353_60_0.png  \n",
            "  inflating: training/ans_0/353_65_0.png  \n",
            "  inflating: training/ans_0/353_70_0.png  \n",
            "  inflating: training/ans_0/353_75_0.png  \n",
            "  inflating: training/ans_0/354_60_0.png  \n",
            "  inflating: training/ans_0/354_65_0.png  \n",
            "  inflating: training/ans_1/150_60_1.png  \n",
            "  inflating: training/ans_1/150_65_1.png  \n",
            "  inflating: training/ans_1/150_70_1.png  \n",
            "  inflating: training/ans_1/150_75_1.png  \n",
            "  inflating: training/ans_1/150_80_1.png  \n",
            "  inflating: training/ans_1/151_60_1.png  \n",
            "  inflating: training/ans_1/151_65_1.png  \n",
            "  inflating: training/ans_1/151_70_1.png  \n",
            "  inflating: training/ans_1/151_75_1.png  \n",
            "  inflating: training/ans_1/151_80_1.png  \n",
            "  inflating: training/ans_1/152_60_1.png  \n",
            "  inflating: training/ans_1/152_65_1.png  \n",
            "  inflating: training/ans_1/152_70_1.png  \n",
            "  inflating: training/ans_1/152_75_1.png  \n",
            "  inflating: training/ans_1/152_80_1.png  \n",
            "  inflating: training/ans_1/153_60_1.png  \n",
            "  inflating: training/ans_1/153_65_1.png  \n",
            "  inflating: training/ans_1/153_70_!.png  \n",
            "  inflating: training/ans_1/153_75_1.png  \n",
            "  inflating: training/ans_1/153_80_!.png  \n",
            "  inflating: training/ans_1/154_60_1.png  \n",
            "  inflating: training/ans_1/154_65_1.png  \n",
            "  inflating: training/ans_1/154_70_!.png  \n",
            "  inflating: training/ans_1/154_75_1.png  \n",
            "  inflating: training/ans_1/154_80_1.png  \n",
            "  inflating: training/ans_1/155_60_1.png  \n",
            "  inflating: training/ans_1/155_65_1.png  \n",
            "  inflating: training/ans_1/155_70_1.png  \n",
            "  inflating: training/ans_1/155_75_1.png  \n",
            "  inflating: training/ans_1/155_80_1.png  \n",
            "  inflating: training/ans_1/200_70_1.png  \n",
            "  inflating: training/ans_1/200_75_1.png  \n",
            "  inflating: training/ans_1/200_80_1.png  \n",
            "  inflating: training/ans_1/201_70_1.png  \n",
            "  inflating: training/ans_1/201_75_1.png  \n",
            "  inflating: training/ans_1/201_80_1.png  \n",
            "  inflating: training/ans_1/202_65_1.png  \n",
            "  inflating: training/ans_1/202_70_1.png  \n",
            "  inflating: training/ans_1/202_75_1.png  \n",
            "  inflating: training/ans_1/202_80_1.png  \n",
            "  inflating: training/ans_1/203_60_1.png  \n",
            "  inflating: training/ans_1/203_65_1.png  \n",
            "  inflating: training/ans_1/203_70_1.png  \n",
            "  inflating: training/ans_1/203_75_1.png  \n",
            "  inflating: training/ans_1/203_80_1.png  \n",
            "  inflating: training/ans_1/204_60_1.png  \n",
            "  inflating: training/ans_1/204_65_1.png  \n",
            "  inflating: training/ans_1/204_70_1.png  \n",
            "  inflating: training/ans_1/204_75_1.png  \n",
            "  inflating: training/ans_1/204_80_1.png  \n",
            "  inflating: training/ans_1/205_60_1.png  \n",
            "  inflating: training/ans_1/205_65_1.png  \n",
            "  inflating: training/ans_1/205_70_1.png  \n",
            "  inflating: training/ans_1/205_75_1.png  \n",
            "  inflating: training/ans_1/205_80_1.png  \n",
            "  inflating: training/ans_1/250_80_1.png  \n",
            "  inflating: training/ans_1/251_80_1.png  \n",
            "  inflating: training/ans_1/252_75_1.png  \n",
            "  inflating: training/ans_1/252_80_1.png  \n",
            "  inflating: training/ans_1/253_70_1.png  \n",
            "  inflating: training/ans_1/253_75_1.png  \n",
            "  inflating: training/ans_1/253_80_1.png  \n",
            "  inflating: training/ans_1/254_65_1.png  \n",
            "  inflating: training/ans_1/254_70_1.png  \n",
            "  inflating: training/ans_1/254_75_1.png  \n",
            "  inflating: training/ans_1/254_80_1.png  \n",
            "  inflating: training/ans_1/255_60_1.png  \n",
            "  inflating: training/ans_1/255_65_1.png  \n",
            "  inflating: training/ans_1/255_70_1.png  \n",
            "  inflating: training/ans_1/255_75_1.png  \n",
            "  inflating: training/ans_1/255_80_1.png  \n",
            "  inflating: training/ans_1/303_80_1.png  \n",
            "  inflating: training/ans_1/304_70_1.png  \n",
            "  inflating: training/ans_1/304_75_1.png  \n",
            "  inflating: training/ans_1/304_80_1.png  \n",
            "  inflating: training/ans_1/305_65_1.png  \n",
            "  inflating: training/ans_1/305_70_1.png  \n",
            "  inflating: training/ans_1/305_75_1.png  \n",
            "  inflating: training/ans_1/305_80_1.png  \n",
            "  inflating: training/ans_1/353_80_1.png  \n",
            "  inflating: training/ans_1/354_70_1.png  \n",
            "  inflating: training/ans_1/354_75_1.png  \n",
            "  inflating: training/ans_1/354_80_1.png  \n",
            "  inflating: training/ans_1/355_60_1.png  \n",
            "  inflating: training/ans_1/355_65_1.png  \n",
            "  inflating: training/ans_1/355_70_1.png  \n",
            "  inflating: training/ans_1/355_75_1.png  \n",
            "  inflating: training/ans_1/355_80_1.png  \n"
          ],
          "name": "stdout"
        }
      ]
    },
    {
      "cell_type": "code",
      "metadata": {
        "id": "W3ySmr7QlmYY"
      },
      "source": [
        "import tensorflow as tf\n",
        "import numpy as np\n",
        "import matplotlib.pyplot as plt"
      ],
      "execution_count": null,
      "outputs": []
    },
    {
      "cell_type": "code",
      "metadata": {
        "id": "NIDl3KdQnj_o"
      },
      "source": [
        "EPOCHS = 50"
      ],
      "execution_count": null,
      "outputs": []
    },
    {
      "cell_type": "code",
      "metadata": {
        "id": "7ieAk2VmlFHR"
      },
      "source": [
        "class ConvNet(tf.keras.Model):\n",
        "    def __init__(self):\n",
        "        super(ConvNet, self).__init__()\n",
        "        conv2d = tf.keras.layers.Conv2D\n",
        "        maxpool = tf.keras.layers.MaxPool2D\n",
        "        \n",
        "        self.sequence = list()  \n",
        "        self.sequence.append(conv2d(16, (3, 3), padding='same', activation='relu'))\n",
        "        self.sequence.append(maxpool((2, 2)))  \n",
        "        \n",
        "        self.sequence.append(conv2d(32, (3, 3), padding='same', activation='relu'))\n",
        "        self.sequence.append(maxpool((2, 2)))  \n",
        "        \n",
        "        self.sequence.append(conv2d(64, (3, 3), padding='same', activation='relu'))\n",
        "        self.sequence.append(maxpool((2, 2)))  \n",
        "        \n",
        "        self.sequence.append(conv2d(128, (3, 3), padding='same', activation='relu'))\n",
        "        self.sequence.append(maxpool((2, 2))) \n",
        "        \n",
        "        self.sequence.append(conv2d(256, (3, 3), padding='same', activation='relu'))\n",
        "        self.sequence.append(maxpool((2, 2)))\n",
        "\n",
        "        self.sequence.append(conv2d(512, (3, 3), padding='same', activation='relu'))\n",
        "        self.sequence.append(maxpool((2, 2)))\n",
        "\n",
        "        self.sequence.append(conv2d(1024, (3, 3), padding='same', activation='relu'))\n",
        "        self.sequence.append(maxpool((2, 2))) \n",
        "        \n",
        "        self.sequence.append(tf.keras.layers.Flatten())   \n",
        "        self.sequence.append(tf.keras.layers.Dense(1024, activation='relu'))\n",
        "        self.sequence.append(tf.keras.layers.Dense(1, activation='sigmoid'))\n",
        "        \n",
        "    def call(self, x, training = False, mask = None):\n",
        "        for layer in self.sequence:\n",
        "            x = layer(x)\n",
        "        return x"
      ],
      "execution_count": null,
      "outputs": []
    },
    {
      "cell_type": "code",
      "metadata": {
        "id": "InpAkcW3nb6z"
      },
      "source": [
        "# Implement training loop\n",
        "@tf.function\n",
        "def train_step(model, images, labels, loss_object, optimizer, train_loss, train_accuracy):\n",
        "    with tf.GradientTape() as tape:\n",
        "        predictions = model(images)\n",
        "        loss = loss_object(labels, predictions)\n",
        "        \n",
        "    gradients = tape.gradient(loss, model.trainable_variables)\n",
        "    optimizer.apply_gradients(zip(gradients, model.trainable_variables))\n",
        "    \n",
        "    train_loss(loss)\n",
        "    train_accuracy(labels, predictions)\n",
        "    \n",
        "# Implement algrithm test\n",
        "@tf.function\n",
        "def test_step(model, images, labels, loss_object, test_loss, test_accuracy):\n",
        "    \n",
        "    predictions = model(images)\n",
        "    t_loss = loss_object(labels, predictions)\n",
        "    \n",
        "    test_loss(t_loss)\n",
        "    test_accuracy(labels, predictions)"
      ],
      "execution_count": null,
      "outputs": []
    },
    {
      "cell_type": "code",
      "metadata": {
        "id": "0sfErBNqfx9I",
        "colab": {
          "base_uri": "https://localhost:8080/"
        },
        "outputId": "a37809c8-980e-4ed4-ffb4-82ac5ccf0410"
      },
      "source": [
        "import tensorflow as tf\n",
        "from tensorflow.keras.preprocessing.image import ImageDataGenerator\n",
        "\n",
        "train_datagen = ImageDataGenerator(rescale = 1./255,\n",
        "                                   horizontal_flip = True)\n",
        "\n",
        "train_ds = train_datagen.flow_from_directory('training',\n",
        "                                             target_size = (512, 1512),\n",
        "                                                 batch_size = 150,\n",
        "                                                 class_mode = 'binary',\n",
        "                                             shuffle = True)\n",
        "\n",
        "test_ds = train_datagen.flow_from_directory('test_data',\n",
        "                                             target_size = (512, 1512),\n",
        "                                                 batch_size = 30,\n",
        "                                                 class_mode = 'binary')\n",
        "\n",
        "\n",
        "\n",
        "x_train, y_train = next(train_ds)\n",
        "x_test, y_test = next(test_ds)\n",
        "x_train = x_train.astype(np.float32)\n",
        "x_test = x_test.astype(np.float32)\n",
        "y_train = y_train.astype(np.uint8)\n",
        "y_test = y_test.astype(np.uint8)\n",
        "\n",
        "train_ds = tf.data.Dataset.from_tensor_slices((x_train, y_train)).shuffle(1000).batch(16)\n",
        "test_ds = tf.data.Dataset.from_tensor_slices((x_test, y_test)).batch(16)\n"
      ],
      "execution_count": null,
      "outputs": [
        {
          "output_type": "stream",
          "text": [
            "Found 150 images belonging to 2 classes.\n",
            "Found 30 images belonging to 2 classes.\n"
          ],
          "name": "stdout"
        }
      ]
    },
    {
      "cell_type": "code",
      "metadata": {
        "id": "VdJ_7bU0f8M6"
      },
      "source": [
        "# Create model\n",
        "model = ConvNet()\n",
        "\n",
        "# Define loss and optimizer\n",
        "loss_object = tf.keras.losses.BinaryCrossentropy()\n",
        "optimizer = tf.keras.optimizers.Adam()\n",
        "\n",
        "# Define performance metrics\n",
        "train_loss = tf.keras.metrics.Mean(name = 'train_loss')\n",
        "train_accuracy = tf.keras.metrics.BinaryAccuracy(name = 'train_accuracy')\n",
        "\n",
        "test_loss = tf.keras.metrics.Mean(name = 'test_loss')\n",
        "test_accuracy = tf.keras.metrics.BinaryAccuracy(name = 'test_accuracy')"
      ],
      "execution_count": null,
      "outputs": []
    },
    {
      "cell_type": "code",
      "metadata": {
        "id": "u_Lcb3FqgU7-",
        "colab": {
          "base_uri": "https://localhost:8080/"
        },
        "outputId": "31057c94-ec38-4385-9f6e-c8ba5b06f292"
      },
      "source": [
        "train_loss_history = []\n",
        "train_acc_history = []\n",
        "test_loss_history = []\n",
        "test_acc_history = []\n",
        "\n",
        "for epoch in range(EPOCHS):\n",
        "    for images, labels in train_ds:\n",
        "        train_step(model, images, labels, loss_object, optimizer, train_loss, train_accuracy)\n",
        "\n",
        "    for test_images, test_labels in test_ds:\n",
        "        test_step(model, test_images, test_labels, loss_object, test_loss, test_accuracy)\n",
        "        \n",
        "    \n",
        "    template = 'Epoch {}\\n Loss: {:.4f}, Accuracy: {:.2f}%\\n Test Loss: {:.4f}, Test Accuracy: {:.2f}%\\n'\n",
        "    print(template.format(epoch + 1,\n",
        "                          train_loss.result(),\n",
        "                          train_accuracy.result()*100,\n",
        "                          test_loss.result(),\n",
        "                          test_accuracy.result() * 100))\n",
        "    \n",
        "    train_loss_history.append(train_loss.result())\n",
        "    train_acc_history.append(train_accuracy.result()*100)\n",
        "    test_loss_history.append(test_loss.result())\n",
        "    test_acc_history.append(test_accuracy.result()*100)\n",
        "    \n",
        "    train_loss.reset_states()\n",
        "    train_accuracy.reset_states()\n",
        "    test_loss.reset_states()\n",
        "    test_accuracy.reset_states()\n",
        "    "
      ],
      "execution_count": null,
      "outputs": [
        {
          "output_type": "stream",
          "text": [
            "Epoch 1\n",
            " Loss: 0.6973, Accuracy: 54.17%\n",
            " Test Loss: 0.7377, Test Accuracy: 37.05%\n",
            "\n",
            "Epoch 2\n",
            " Loss: 0.6924, Accuracy: 56.04%\n",
            " Test Loss: 0.7142, Test Accuracy: 37.05%\n",
            "\n",
            "Epoch 3\n",
            " Loss: 0.7013, Accuracy: 56.04%\n",
            " Test Loss: 0.6856, Test Accuracy: 37.05%\n",
            "\n",
            "Epoch 4\n",
            " Loss: 0.6322, Accuracy: 58.33%\n",
            " Test Loss: 0.6692, Test Accuracy: 63.39%\n",
            "\n",
            "Epoch 5\n",
            " Loss: 0.6260, Accuracy: 70.83%\n",
            " Test Loss: 0.6103, Test Accuracy: 63.39%\n",
            "\n",
            "Epoch 6\n",
            " Loss: 0.6042, Accuracy: 68.12%\n",
            " Test Loss: 0.6148, Test Accuracy: 63.39%\n",
            "\n",
            "Epoch 7\n",
            " Loss: 0.5938, Accuracy: 78.33%\n",
            " Test Loss: 0.5686, Test Accuracy: 73.66%\n",
            "\n",
            "Epoch 8\n",
            " Loss: 0.5795, Accuracy: 73.75%\n",
            " Test Loss: 0.4901, Test Accuracy: 79.91%\n",
            "\n",
            "Epoch 9\n",
            " Loss: 0.4897, Accuracy: 80.42%\n",
            " Test Loss: 0.4320, Test Accuracy: 79.91%\n",
            "\n",
            "Epoch 10\n",
            " Loss: 0.3774, Accuracy: 82.71%\n",
            " Test Loss: 0.2808, Test Accuracy: 89.73%\n",
            "\n",
            "Epoch 11\n",
            " Loss: 0.2808, Accuracy: 87.08%\n",
            " Test Loss: 0.6610, Test Accuracy: 75.89%\n",
            "\n",
            "Epoch 12\n",
            " Loss: 0.4175, Accuracy: 87.08%\n",
            " Test Loss: 0.3693, Test Accuracy: 86.16%\n",
            "\n",
            "Epoch 13\n",
            " Loss: 0.2267, Accuracy: 89.58%\n",
            " Test Loss: 0.3295, Test Accuracy: 83.04%\n",
            "\n",
            "Epoch 14\n",
            " Loss: 0.1238, Accuracy: 93.12%\n",
            " Test Loss: 0.4552, Test Accuracy: 89.73%\n",
            "\n",
            "Epoch 15\n",
            " Loss: 0.1023, Accuracy: 97.50%\n",
            " Test Loss: 0.6871, Test Accuracy: 86.16%\n",
            "\n",
            "Epoch 16\n",
            " Loss: 0.1532, Accuracy: 92.50%\n",
            " Test Loss: 0.7645, Test Accuracy: 83.04%\n",
            "\n",
            "Epoch 17\n",
            " Loss: 0.1939, Accuracy: 93.96%\n",
            " Test Loss: 0.3885, Test Accuracy: 86.16%\n",
            "\n",
            "Epoch 18\n",
            " Loss: 0.0704, Accuracy: 97.50%\n",
            " Test Loss: 0.5604, Test Accuracy: 79.46%\n",
            "\n",
            "Epoch 19\n",
            " Loss: 0.1446, Accuracy: 96.46%\n",
            " Test Loss: 0.4669, Test Accuracy: 89.73%\n",
            "\n",
            "Epoch 20\n",
            " Loss: 0.2836, Accuracy: 91.88%\n",
            " Test Loss: 0.4519, Test Accuracy: 83.04%\n",
            "\n",
            "Epoch 21\n",
            " Loss: 0.2367, Accuracy: 93.33%\n",
            " Test Loss: 0.3537, Test Accuracy: 86.61%\n",
            "\n",
            "Epoch 22\n",
            " Loss: 0.1089, Accuracy: 96.25%\n",
            " Test Loss: 0.6307, Test Accuracy: 79.46%\n",
            "\n",
            "Epoch 23\n",
            " Loss: 0.0588, Accuracy: 96.88%\n",
            " Test Loss: 0.6348, Test Accuracy: 86.16%\n",
            "\n",
            "Epoch 24\n",
            " Loss: 0.0608, Accuracy: 97.50%\n",
            " Test Loss: 0.3792, Test Accuracy: 86.61%\n",
            "\n",
            "Epoch 25\n",
            " Loss: 0.0278, Accuracy: 98.12%\n",
            " Test Loss: 0.4104, Test Accuracy: 86.61%\n",
            "\n",
            "Epoch 26\n",
            " Loss: 0.0114, Accuracy: 100.00%\n",
            " Test Loss: 0.5319, Test Accuracy: 86.16%\n",
            "\n",
            "Epoch 27\n",
            " Loss: 0.0338, Accuracy: 98.12%\n",
            " Test Loss: 0.4106, Test Accuracy: 86.16%\n",
            "\n",
            "Epoch 28\n",
            " Loss: 0.0222, Accuracy: 98.75%\n",
            " Test Loss: 0.3328, Test Accuracy: 89.73%\n",
            "\n",
            "Epoch 29\n",
            " Loss: 0.0540, Accuracy: 99.38%\n",
            " Test Loss: 0.2403, Test Accuracy: 92.86%\n",
            "\n",
            "Epoch 30\n",
            " Loss: 0.0212, Accuracy: 99.38%\n",
            " Test Loss: 0.3506, Test Accuracy: 86.16%\n",
            "\n",
            "Epoch 31\n",
            " Loss: 0.0050, Accuracy: 100.00%\n",
            " Test Loss: 0.5150, Test Accuracy: 86.16%\n",
            "\n",
            "Epoch 32\n",
            " Loss: 0.0015, Accuracy: 100.00%\n",
            " Test Loss: 0.6024, Test Accuracy: 89.29%\n",
            "\n",
            "Epoch 33\n",
            " Loss: 0.0008, Accuracy: 100.00%\n",
            " Test Loss: 0.6357, Test Accuracy: 89.29%\n",
            "\n",
            "Epoch 34\n",
            " Loss: 0.0002, Accuracy: 100.00%\n",
            " Test Loss: 0.6965, Test Accuracy: 86.16%\n",
            "\n",
            "Epoch 35\n",
            " Loss: 0.0001, Accuracy: 100.00%\n",
            " Test Loss: 0.7366, Test Accuracy: 86.16%\n",
            "\n",
            "Epoch 36\n",
            " Loss: 0.0000, Accuracy: 100.00%\n",
            " Test Loss: 0.7735, Test Accuracy: 86.16%\n",
            "\n",
            "Epoch 37\n",
            " Loss: 0.0000, Accuracy: 100.00%\n",
            " Test Loss: 0.8178, Test Accuracy: 86.16%\n",
            "\n",
            "Epoch 38\n",
            " Loss: 0.0000, Accuracy: 100.00%\n",
            " Test Loss: 0.8563, Test Accuracy: 86.16%\n",
            "\n",
            "Epoch 39\n",
            " Loss: 0.0000, Accuracy: 100.00%\n",
            " Test Loss: 0.8936, Test Accuracy: 83.04%\n",
            "\n",
            "Epoch 40\n",
            " Loss: 0.0000, Accuracy: 100.00%\n",
            " Test Loss: 0.9235, Test Accuracy: 83.04%\n",
            "\n",
            "Epoch 41\n",
            " Loss: 0.0000, Accuracy: 100.00%\n",
            " Test Loss: 0.9500, Test Accuracy: 83.04%\n",
            "\n",
            "Epoch 42\n",
            " Loss: 0.0000, Accuracy: 100.00%\n",
            " Test Loss: 0.9721, Test Accuracy: 83.04%\n",
            "\n",
            "Epoch 43\n",
            " Loss: 0.0000, Accuracy: 100.00%\n",
            " Test Loss: 0.9961, Test Accuracy: 83.04%\n",
            "\n",
            "Epoch 44\n",
            " Loss: 0.0000, Accuracy: 100.00%\n",
            " Test Loss: 1.0133, Test Accuracy: 83.04%\n",
            "\n",
            "Epoch 45\n",
            " Loss: 0.0000, Accuracy: 100.00%\n",
            " Test Loss: 1.0331, Test Accuracy: 83.04%\n",
            "\n",
            "Epoch 46\n",
            " Loss: 0.0000, Accuracy: 100.00%\n",
            " Test Loss: 1.0633, Test Accuracy: 83.04%\n",
            "\n",
            "Epoch 47\n",
            " Loss: 0.0000, Accuracy: 100.00%\n",
            " Test Loss: 1.0821, Test Accuracy: 83.04%\n",
            "\n",
            "Epoch 48\n",
            " Loss: 0.0000, Accuracy: 100.00%\n",
            " Test Loss: 1.1041, Test Accuracy: 83.04%\n",
            "\n",
            "Epoch 49\n",
            " Loss: 0.0000, Accuracy: 100.00%\n",
            " Test Loss: 1.1107, Test Accuracy: 83.04%\n",
            "\n",
            "Epoch 50\n",
            " Loss: 0.0000, Accuracy: 100.00%\n",
            " Test Loss: 1.1404, Test Accuracy: 83.04%\n",
            "\n"
          ],
          "name": "stdout"
        }
      ]
    },
    {
      "cell_type": "code",
      "metadata": {
        "id": "T2E-WIeLqwff",
        "colab": {
          "base_uri": "https://localhost:8080/",
          "height": 295
        },
        "outputId": "28530053-3cb7-4f7b-ad5f-3ea4d9788ca6"
      },
      "source": [
        "epochs = range(1, EPOCHS + 1)\n",
        "\n",
        "plt.plot(epochs, train_loss_history)\n",
        "plt.plot(epochs, test_loss_history)\n",
        "plt.title('Train and test loss')\n",
        "plt.legend(['train', 'test'])\n",
        "plt.xlabel('Epochs')\n",
        "plt.ylabel('Loss')\n",
        "plt.show()"
      ],
      "execution_count": null,
      "outputs": [
        {
          "output_type": "display_data",
          "data": {
            "image/png": "[encoded data removed]",
            "text/plain": [
              "<Figure size 432x288 with 1 Axes>"
            ]
          },
          "metadata": {
            "tags": [],
            "needs_background": "light"
          }
        }
      ]
    },
    {
      "cell_type": "code",
      "metadata": {
        "id": "-_UlPLfHqwh5",
        "colab": {
          "base_uri": "https://localhost:8080/",
          "height": 295
        },
        "outputId": "5ff79548-19d5-4ce5-d011-2476a5594888"
      },
      "source": [
        "plt.plot(epochs, train_acc_history)\n",
        "plt.plot(epochs, test_acc_history)\n",
        "plt.title('Train and test accuracy')\n",
        "plt.legend(['train', 'test'])\n",
        "plt.xlabel('Epochs')\n",
        "plt.ylabel('Accuracy (%)')\n",
        "plt.show()"
      ],
      "execution_count": null,
      "outputs": [
        {
          "output_type": "display_data",
          "data": {
            "image/png": "[encoded data removed]",
            "text/plain": [
              "<Figure size 432x288 with 1 Axes>"
            ]
          },
          "metadata": {
            "tags": [],
            "needs_background": "light"
          }
        }
      ]
    },
    {
      "cell_type": "code",
      "metadata": {
        "id": "isWsp8IOnq2O"
      },
      "source": [
        ""
      ],
      "execution_count": null,
      "outputs": []
    }
  ]
}